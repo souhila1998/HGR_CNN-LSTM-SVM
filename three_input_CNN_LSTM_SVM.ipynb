{
  "cells": [
    {
      "cell_type": "markdown",
      "metadata": {
        "id": "view-in-github",
        "colab_type": "text"
      },
      "source": [
        "<a href=\"https://colab.research.google.com/github/souhila1998/HGR_CNN-LSTM-SVM/blob/main/three_inputs_CNN_LSTM_SVM.ipynb\" target=\"_parent\"><img src=\"https://colab.research.google.com/assets/colab-badge.svg\" alt=\"Open In Colab\"/></a>"
      ]
    },
    {
      "cell_type": "markdown",
      "id": "4529a434",
      "metadata": {
        "id": "4529a434"
      },
      "source": [
        "### Import dependencies\n",
        " "
      ]
    },
    {
      "cell_type": "code",
      "execution_count": null,
      "id": "bca0fa18",
      "metadata": {
        "id": "bca0fa18"
      },
      "outputs": [],
      "source": [
        "import pandas as pd\n",
        "import numpy as np\n",
        "import seaborn as sns\n",
        "from skimage.io import imread\n",
        "from matplotlib import pyplot as plt\n",
        "%matplotlib inline\n",
        "import tensorflow \n",
        "from tensorflow.keras.callbacks import ModelCheckpoint, ReduceLROnPlateau\n",
        "from tensorflow.keras.models import Model, Sequential\n",
        "from tensorflow.keras import optimizers\n",
        "from tensorflow.keras.utils import to_categorical\n",
        "from tensorflow.keras.layers import Input, Dense, Flatten,Dropout, Conv2D, MaxPooling2D, Activation, concatenate,LSTM, TimeDistributed\n",
        "import datetime\n",
        "import tensorflow_addons as tfa\n",
        "from sklearn.model_selection import train_test_split\n",
        "from yellowbrick.classifier import ClassPredictionError,ConfusionMatrix\n",
        "import optuna\n",
        "import time\n",
        "import scikitplot as skplt\n",
        "from tensorflow.keras.models import load_model\n",
        "import cv2\n",
        "from sklearn.svm import SVC\n",
        "from sklearn.multiclass import OneVsRestClassifier\n",
        "import ipywidgets as widgets\n",
        "from ipywidgets import interact, interact_manual\n",
        "from yellowbrick.classifier import ClassificationReport"
      ]
    },
    {
      "cell_type": "markdown",
      "id": "992adf27",
      "metadata": {
        "id": "992adf27"
      },
      "source": [
        "### Read labels and data\n"
      ]
    },
    {
      "cell_type": "code",
      "execution_count": null,
      "id": "237e9ea2",
      "metadata": {
        "id": "237e9ea2"
      },
      "outputs": [],
      "source": [
        "train_df = pd.read_excel ('/labels.xlsx', index_col=0).apply(np.int64)\n",
        "train_df = train_df.replace(-9223372036854775808, 0, regex=True)\n",
        "train_df['left_file'] = train_df.index.map(lambda id: f'/x/{id}_x.png')\n",
        "train_df['top_file'] = train_df.index.map(lambda id: f'/xy/{id}_xy.png')\n",
        "train_df['right_file'] = train_df.index.map(lambda id: f'/y/{id}_y.png')\n",
        "\n",
        "print (train_df)"
      ]
    },
    {
      "cell_type": "markdown",
      "id": "68988abb",
      "metadata": {
        "id": "68988abb"
      },
      "source": [
        "### Parameters"
      ]
    },
    {
      "cell_type": "code",
      "execution_count": null,
      "id": "5e22d1eb",
      "metadata": {
        "id": "5e22d1eb"
      },
      "outputs": [],
      "source": [
        "in_channel =1 #number of channel of the binary images\n",
        "img_rows, img_cols = 75, 75 #image size\n",
        "num_classes = 12 # number of classes\n",
        "batch_size = 16\n",
        "\n",
        "input_shape = (img_rows, img_cols, in_channel)\n",
        "input_img = Input(shape = input_shape)"
      ]
    },
    {
      "cell_type": "code",
      "execution_count": null,
      "id": "928cfb20",
      "metadata": {
        "id": "928cfb20"
      },
      "outputs": [],
      "source": [
        "def read_spectograms(file_paths, img_rows, img_cols, channels):\n",
        "  images = []\n",
        "  \n",
        "  for file_path in file_paths:\n",
        "    images.append(imread(file_path))\n",
        "\n",
        "  images = np.asarray(images,  dtype=np.float32)\n",
        "  images =  images /np.max(images)\n",
        " \n",
        "\n",
        "  images = images.reshape(images.shape[0], img_rows, img_cols, channels)\n",
        "    \n",
        "  return images\n",
        "\n",
        " "
      ]
    },
    {
      "cell_type": "markdown",
      "id": "94424c67",
      "metadata": {
        "id": "94424c67"
      },
      "source": [
        "### gradient of the images in the x-direction \n"
      ]
    },
    {
      "cell_type": "code",
      "execution_count": null,
      "id": "f183c864",
      "metadata": {
        "id": "f183c864"
      },
      "outputs": [],
      "source": [
        "x_train_left = read_spectograms(train_df.left_file.values, img_rows, img_cols, in_channel)\n"
      ]
    },
    {
      "cell_type": "markdown",
      "id": "2d34ddd0",
      "metadata": {
        "id": "2d34ddd0"
      },
      "source": [
        "### gradient magnitude images  \n"
      ]
    },
    {
      "cell_type": "code",
      "execution_count": null,
      "id": "a7e07d85",
      "metadata": {
        "id": "a7e07d85"
      },
      "outputs": [],
      "source": [
        "x_train_top = read_spectograms(train_df.top_file.values, img_rows, img_cols, in_channel)"
      ]
    },
    {
      "cell_type": "markdown",
      "id": "b24911b9",
      "metadata": {
        "id": "b24911b9"
      },
      "source": [
        "### gradient of the image in the y-direction \n"
      ]
    },
    {
      "cell_type": "code",
      "execution_count": null,
      "id": "2074042d",
      "metadata": {
        "id": "2074042d"
      },
      "outputs": [],
      "source": [
        "x_train_right = read_spectograms(train_df.right_file.values, img_rows, img_cols, in_channel)"
      ]
    },
    {
      "cell_type": "markdown",
      "id": "e16fd93e",
      "metadata": {
        "id": "e16fd93e"
      },
      "source": [
        "### Labels"
      ]
    },
    {
      "cell_type": "code",
      "execution_count": null,
      "id": "426e1c74",
      "metadata": {
        "id": "426e1c74"
      },
      "outputs": [],
      "source": [
        "labels = train_df.classe.values\n",
        "#The model consists of three inputs, the samples are stacked, \n",
        "#so the train_test_split function splits on the same pair of images.\n",
        "#The stacking happens on the 4th axis.\n",
        "x_train_comp = np.stack((x_train_left, x_train_top, x_train_right), axis=4)\n"
      ]
    },
    {
      "cell_type": "markdown",
      "id": "ba3fa842",
      "metadata": {
        "id": "ba3fa842"
      },
      "source": [
        "## Create and train the model\n"
      ]
    },
    {
      "cell_type": "markdown",
      "id": "2e39e646",
      "metadata": {
        "id": "2e39e646"
      },
      "source": [
        "### Split in train and test batches"
      ]
    },
    {
      "cell_type": "code",
      "execution_count": null,
      "id": "a77cad8c",
      "metadata": {
        "id": "a77cad8c"
      },
      "outputs": [],
      "source": [
        "#split the images on the same pair of images\n",
        "x_train, x_test, y_train, y_test = train_test_split(x_train_comp, labels, test_size = 0.2, random_state=1)\n",
        "\n",
        "# take them apart\n",
        "x_train_left = x_train[:,:,:,:,0]\n",
        "x_test_left = x_test[:,:,:,:,0]\n",
        "#####################################\n",
        "x_train_top = x_train[:,:,:,:,1]\n",
        "x_test_top = x_test[:,:,:,:,1]\n",
        "#####################################\n",
        "x_train_right = x_train[:,:,:,:,2]\n",
        "x_test_right = x_test[:,:,:,:,2]"
      ]
    },
    {
      "cell_type": "markdown",
      "id": "4529b4d8",
      "metadata": {
        "id": "4529b4d8"
      },
      "source": [
        "### Create the feature extractor 3-input CNN-LSTM\n"
      ]
    },
    {
      "cell_type": "code",
      "execution_count": null,
      "id": "2c5763cb",
      "metadata": {
        "id": "2c5763cb"
      },
      "outputs": [],
      "source": [
        "from tensorflow.keras import initializers\n",
        "\n",
        "def create_convolution_layers(input_img):\n",
        "\n",
        "  model = Conv2D(16, (4,4), padding='same',strides = (2,2), input_shape=input_shape)(input_img)\n",
        "  model = tfa.layers.Maxout(16)(model)\n",
        "  model = MaxPooling2D(pool_size=(2, 2))(model)\n",
        "  model = Dropout(0.25)(model)\n",
        "\n",
        "  model = Conv2D(32, (4,4), padding='same',strides = (2,2))(model)\n",
        "  model = tfa.layers.Maxout(32)(model)\n",
        "  model = MaxPooling2D(pool_size=(2, 2))(model)\n",
        "  model = Dropout(0.25)(model)\n",
        "\n",
        "\n",
        "  model = Conv2D(64, (4,4), padding='same',strides = (2,2))(model)\n",
        "  model = tfa.layers.Maxout(64)(model)\n",
        "  model = MaxPooling2D(pool_size=(2, 2))(model)\n",
        "  model = Dropout(0.25)(model)\n",
        "\n",
        "  return model\n"
      ]
    },
    {
      "cell_type": "code",
      "execution_count": null,
      "id": "c2bb2e0d",
      "metadata": {
        "scrolled": true,
        "id": "c2bb2e0d"
      },
      "outputs": [],
      "source": [
        "left_input = Input(shape=input_shape)\n",
        "left_model = create_convolution_layers(left_input)\n",
        "\n",
        "top_input = Input(shape=input_shape)\n",
        "top_model = create_convolution_layers(top_input)\n",
        "\n",
        "right_input = Input(shape=input_shape)\n",
        "right_model = create_convolution_layers(right_input)\n",
        "conv = concatenate([left_model, top_model, right_model])\n",
        "conv = TimeDistributed(LSTM(units =150,recurrent_dropout=0.2))(conv)\n",
        "conv = Flatten(name='flatten')(conv)\n",
        "output = Dense(12, activation='softmax')(conv)\n",
        "\n",
        "model = Model(inputs=[left_input, top_input, right_input], outputs=[output])\n",
        "\n",
        "opt = optimizers.Adam()\n",
        "# Compile the model\n",
        "model.compile(loss=tensorflow.keras.losses.sparse_categorical_crossentropy,\n",
        "              optimizer=opt,\n",
        "              metrics=['accuracy'])\n",
        "model.summary()"
      ]
    },
    {
      "cell_type": "code",
      "execution_count": null,
      "id": "cef8fc8f",
      "metadata": {
        "id": "cef8fc8f"
      },
      "outputs": [],
      "source": [
        "from tensorflow.keras.utils import plot_model\n",
        "%matplotlib inline\n",
        "plot_model(model, to_file='model_plot.png', show_shapes=True, show_layer_names=True)"
      ]
    },
    {
      "cell_type": "markdown",
      "id": "a0e8c4f4",
      "metadata": {
        "id": "a0e8c4f4"
      },
      "source": [
        "### Train the model\n",
        " "
      ]
    },
    {
      "cell_type": "code",
      "execution_count": null,
      "id": "cc25a5ac",
      "metadata": {
        "id": "cc25a5ac"
      },
      "outputs": [],
      "source": [
        "%%time\n",
        "\n",
        "history = model.fit([x_train_left, x_train_top, x_train_right], y_train,\n",
        "          batch_size=batch_size,\n",
        "          epochs=25,\n",
        "          verbose=1,\n",
        "          shuffle=False)"
      ]
    },
    {
      "cell_type": "code",
      "execution_count": null,
      "id": "47c8a0e7",
      "metadata": {
        "id": "47c8a0e7"
      },
      "outputs": [],
      "source": [
        "#model.save(\"model_cnn_lstm.h5\")"
      ]
    },
    {
      "cell_type": "code",
      "execution_count": null,
      "id": "ff32a52b",
      "metadata": {
        "id": "ff32a52b"
      },
      "outputs": [],
      "source": [
        "model = load_model('model_cnn_lstm.h5')"
      ]
    },
    {
      "cell_type": "code",
      "execution_count": null,
      "id": "e6789f88",
      "metadata": {
        "id": "e6789f88"
      },
      "outputs": [],
      "source": [
        "def tr_plot(tr_data, start_epoch):\n",
        "\n",
        "   \n",
        "\n",
        "    tacc=tr_data.history['accuracy']\n",
        "    tloss=tr_data.history['loss']\n",
        "\n",
        "    Epoch_count=len(tacc)+ start_epoch\n",
        "    Epochs=[]\n",
        "    for i in range (start_epoch ,Epoch_count):\n",
        "        Epochs.append(i+1)   \n",
        "    index_loss=np.argmin(tloss)\n",
        "    val_lowest=tloss[index_loss]\n",
        "    index_acc=np.argmax(tacc)\n",
        "    acc_highest=tacc[index_acc]\n",
        "    plt.style.use('fivethirtyeight')\n",
        "    sc_label='best epoch= '+ str(index_loss+1 +start_epoch)\n",
        "    vc_label='best epoch= '+ str(index_acc + 1+ start_epoch)\n",
        "    fig,axes=plt.subplots(nrows=1, ncols=2, figsize=(20,8))\n",
        "\n",
        "    axes[0].plot (Epochs,tacc,'r',label= 'Training Accuracy')\n",
        "    plt.tick_params(labelsize=18)\n",
        "    axes[0].set_title('Training Accuracy')\n",
        "    axes[0].set_xlabel('Epochs')\n",
        "    axes[0].set_ylabel('Accuracy')\n",
        "    axes[0].legend()\n",
        "\n",
        "    axes[1].plot(Epochs,tloss, 'r', label='Training loss')\n",
        "    axes[1].set_title('Training Loss')\n",
        "    axes[1].set_xlabel('Epochs')\n",
        "    axes[1].set_ylabel('Loss')\n",
        "    axes[1].legend()\n",
        "    plt.show()"
      ]
    },
    {
      "cell_type": "code",
      "execution_count": null,
      "id": "a50f62b2",
      "metadata": {
        "id": "a50f62b2"
      },
      "outputs": [],
      "source": [
        "tr_plot(history,0)\n"
      ]
    },
    {
      "cell_type": "code",
      "execution_count": null,
      "id": "1385696b",
      "metadata": {
        "id": "1385696b"
      },
      "outputs": [],
      "source": [
        "model_feat = Model(inputs=model.input,outputs=model.get_layer('flatten').output)\n",
        "\n",
        "feat_train = model_feat.predict([x_train_left, x_train_top, x_train_right])\n",
        "\n"
      ]
    },
    {
      "cell_type": "code",
      "execution_count": null,
      "id": "c994c84d",
      "metadata": {
        "id": "c994c84d"
      },
      "outputs": [],
      "source": [
        "start = time.time()\n",
        "print(\"Optimizing the parameters\")\n",
        "def objective(trial):\n",
        "    kernel=trial.suggest_categorical('kernel',['rbf','poly','linear','sigmoid'])\n",
        "    c=trial.suggest_float(\"C\",0.1,3,log=True)\n",
        "    gamma=trial.suggest_categorical('gamma',['auto','scale'])\n",
        "    degree=trial.suggest_int(\"degree\",1,3,log=True)\n",
        "    classifier_obj  =OneVsRestClassifier(SVC(kernel=kernel,gamma=gamma,C=c, degree=degree))\n",
        "    score = cross_val_score(classifier_obj,feat_train,y_train, n_jobs=-1, cv=5)\n",
        "    accuracy = score.mean()\n",
        "    return accuracy"
      ]
    },
    {
      "cell_type": "code",
      "execution_count": null,
      "id": "683c8dd4",
      "metadata": {
        "id": "683c8dd4"
      },
      "outputs": [],
      "source": [
        "start = time.time()\n",
        "print(\"Optimizing the parameters\")\n",
        "\n",
        "study = optuna.create_study(direction=\"maximize\")\n",
        "study.optimize(objective, n_trials=100)\n",
        "\n",
        "\n",
        "end = time.time()\n",
        "duration = end - start\n",
        "print ('\\n Parameter Optimization took %0.2f seconds (%0.1f minutes)'%(duration, duration/60) )\n",
        "\n",
        "print(\"\\n\\nBEST TRIAL : \\n\",study.best_trial) #get best trial"
      ]
    },
    {
      "cell_type": "code",
      "execution_count": null,
      "id": "fb93abe6",
      "metadata": {
        "id": "fb93abe6"
      },
      "outputs": [],
      "source": [
        "print(\"\\n\\nBEST PARAMETERS : \\n\",study.best_params) #get best parameters\n"
      ]
    },
    {
      "cell_type": "code",
      "execution_count": null,
      "id": "33205f0a",
      "metadata": {
        "id": "33205f0a"
      },
      "outputs": [],
      "source": [
        "from optuna.visualization import plot_optimization_history\n",
        "from optuna.visualization import plot_param_importances\n",
        "from optuna.visualization import plot_slice\n",
        "plot_optimization_history(study)\n"
      ]
    },
    {
      "cell_type": "code",
      "execution_count": null,
      "id": "c44044ab",
      "metadata": {
        "id": "c44044ab"
      },
      "outputs": [],
      "source": [
        "plot_slice(study)\n"
      ]
    },
    {
      "cell_type": "markdown",
      "id": "de6bd29b",
      "metadata": {
        "id": "de6bd29b"
      },
      "source": [
        "### Train the SVM classifier"
      ]
    },
    {
      "cell_type": "code",
      "execution_count": null,
      "id": "c973e1f2",
      "metadata": {
        "id": "c973e1f2"
      },
      "outputs": [],
      "source": [
        "\n",
        "#Best parameters : kernel='rbf',gamma='auto',c = 1.7077226779041297, degree = 3)\n",
        "svc = OneVsRestClassifier(SVC(probability=True, kernel='rbf',gamma='auto',C= 1.7077226779041297, degree = 3))\n",
        "\n",
        "training_start = time.perf_counter()\n",
        "\n",
        "svc.fit(feat_train,y_train)\n",
        "\n",
        "train_acc = svc.score(feat_train,y_train)*100\n",
        "\n",
        "training_end = time.perf_counter()"
      ]
    },
    {
      "cell_type": "markdown",
      "id": "f19ac57c",
      "metadata": {
        "id": "f19ac57c"
      },
      "source": [
        "### Make prediction with SVM "
      ]
    },
    {
      "cell_type": "code",
      "execution_count": null,
      "id": "44bf6627",
      "metadata": {
        "id": "44bf6627"
      },
      "outputs": [],
      "source": [
        "prediction_start = time.perf_counter()\n",
        "\n",
        "feat_test = model_feat.predict([x_test_left, x_test_top, x_test_right])\n",
        "\n",
        "preds = svc.predict(feat_test)\n",
        "\n",
        "prediction_end = time.perf_counter()\n",
        "\n",
        "pred_acc = (preds == y_test).sum().astype(float) / len(preds)*100\n",
        "\n"
      ]
    },
    {
      "cell_type": "markdown",
      "id": "f231d46c",
      "metadata": {
        "id": "f231d46c"
      },
      "source": [
        "### SVM train/prediction accuracy/time "
      ]
    },
    {
      "cell_type": "code",
      "execution_count": null,
      "id": "8ab79aa6",
      "metadata": {
        "id": "8ab79aa6"
      },
      "outputs": [],
      "source": [
        "svc_train_time = training_end-training_start\n",
        "svc_prediction_time = prediction_end-prediction_start\n",
        "print(\"SVM training accuracy is: %3.16f\" % (train_acc))\n",
        "print(\"SVM prediction accuracy is: %3.16f\" % (pred_acc))\n",
        "print(\"Time consumed for training: %4.5f seconds\" % (svc_train_time))\n",
        "print(\"Time consumed for prediction: %6.5f seconds\" % (svc_prediction_time))"
      ]
    },
    {
      "cell_type": "code",
      "execution_count": null,
      "id": "60562c1c",
      "metadata": {
        "id": "60562c1c"
      },
      "outputs": [],
      "source": [
        "Y_true = y_test \n"
      ]
    },
    {
      "cell_type": "markdown",
      "id": "e08ec5e9",
      "metadata": {
        "id": "e08ec5e9"
      },
      "source": [
        "### Confusion matrix "
      ]
    },
    {
      "cell_type": "code",
      "execution_count": null,
      "id": "eef79a87",
      "metadata": {
        "id": "eef79a87"
      },
      "outputs": [],
      "source": [
        "fig = plt.figure(figsize=(10,7))\n",
        "classes = ['L-R swipe', 'R-L swipe', 'U-D swipe','D-U swipe','Diag-LR-UD swipe','Diag-LR-DU swipe','Diag-RL-UD swipe','Diag-RL-DU swipe','clockwise rotation','counterclockwise rotation','inward push','empty gesture']\n",
        "\n",
        "cm = ConfusionMatrix(svc, classes = classes, percent = True)\n",
        "\n",
        "cm.fit(feat_train,y_train)\n",
        "cm.score(feat_test,Y_true)\n",
        "\n",
        "cm.poof()\n"
      ]
    },
    {
      "cell_type": "markdown",
      "source": [
        "### Classification report "
      ],
      "metadata": {
        "id": "-dk4so9zreJK"
      },
      "id": "-dk4so9zreJK"
    },
    {
      "cell_type": "code",
      "execution_count": null,
      "id": "b6d1d35b",
      "metadata": {
        "id": "b6d1d35b"
      },
      "outputs": [],
      "source": [
        "\n",
        "fig = plt.figure(figsize=(7,7))\n",
        "\n",
        "visualizer= ClassificationReport(svc,\n",
        "                         classes = classes,     \n",
        "                         support=True,\n",
        "                         is_fitted=True, \n",
        "                         title=\"ClassPredictionError Classification Report\"\n",
        "                         )\n",
        "visualizer.fit(feat_train,y_train,axis=1)\n",
        "visualizer.score(feat_test,Y_true)\n",
        "g = visualizer.show()"
      ]
    },
    {
      "cell_type": "code",
      "execution_count": null,
      "id": "36edcf1c",
      "metadata": {
        "id": "36edcf1c"
      },
      "outputs": [],
      "source": [
        "preds = svc.predict_proba(feat_test)\n"
      ]
    },
    {
      "cell_type": "code",
      "execution_count": null,
      "id": "cde0de33",
      "metadata": {
        "id": "cde0de33"
      },
      "outputs": [],
      "source": [
        "skplt.metrics.plot_roc_curve(Y_true, preds,\n",
        "                       title=\"ROC Curve\", figsize=(12,6));"
      ]
    },
    {
      "cell_type": "code",
      "execution_count": null,
      "id": "ee903b91",
      "metadata": {
        "id": "ee903b91"
      },
      "outputs": [],
      "source": [
        "skplt.metrics.plot_precision_recall_curve(Y_true, preds,\n",
        "                       title=\"Precision-Recall Curve\", figsize=(12,6));"
      ]
    },
    {
      "cell_type": "code",
      "execution_count": null,
      "id": "8dff20c4",
      "metadata": {
        "id": "8dff20c4"
      },
      "outputs": [],
      "source": [
        "# "
      ]
    },
    {
      "cell_type": "code",
      "execution_count": null,
      "id": "dabe8ff6",
      "metadata": {
        "id": "dabe8ff6"
      },
      "outputs": [],
      "source": []
    },
    {
      "cell_type": "code",
      "execution_count": null,
      "id": "3701e043",
      "metadata": {
        "id": "3701e043"
      },
      "outputs": [],
      "source": []
    }
  ],
  "metadata": {
    "kernelspec": {
      "display_name": "Python 3 (ipykernel)",
      "language": "python",
      "name": "python3"
    },
    "language_info": {
      "codemirror_mode": {
        "name": "ipython",
        "version": 3
      },
      "file_extension": ".py",
      "mimetype": "text/x-python",
      "name": "python",
      "nbconvert_exporter": "python",
      "pygments_lexer": "ipython3",
      "version": "3.9.15"
    },
    "colab": {
      "provenance": [],
      "include_colab_link": true
    }
  },
  "nbformat": 4,
  "nbformat_minor": 5
}
